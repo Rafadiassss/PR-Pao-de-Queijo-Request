{
  "nbformat": 4,
  "nbformat_minor": 0,
  "metadata": {
    "colab": {
      "provenance": [],
      "gpuType": "T4",
      "authorship_tag": "ABX9TyP5a+PQxJjip+s7QdC+UFLe",
      "include_colab_link": true
    },
    "kernelspec": {
      "name": "python3",
      "display_name": "Python 3"
    },
    "language_info": {
      "name": "python"
    },
    "accelerator": "GPU"
  },
  "cells": [
    {
      "cell_type": "markdown",
      "metadata": {
        "id": "view-in-github",
        "colab_type": "text"
      },
      "source": [
        "<a href=\"https://colab.research.google.com/github/Rafadiassss/PR-Pao-de-Queijo-Request/blob/main/NumPy.ipynb\" target=\"_parent\"><img src=\"https://colab.research.google.com/assets/colab-badge.svg\" alt=\"Open In Colab\"/></a>"
      ]
    },
    {
      "cell_type": "markdown",
      "source": [
        "Lista 2\n",
        "Rafaela Dias\n",
        "TOPICOS 1 E OPITATIVA 1"
      ],
      "metadata": {
        "id": "xY0dGJakbktT"
      }
    },
    {
      "cell_type": "code",
      "source": [
        "#Atividade 1\n",
        "import numpy as np\n",
        "\n",
        "# Crie seu array\n",
        "seu_array = np.array([0, 2, 3, 4, 5])\n",
        "\n",
        "# Verifique se nenhum dos elementos é zero\n",
        "if np.all(seu_array != 0):\n",
        "    print(\"Nenhum dos elementos é zero.\")\n",
        "else:\n",
        "    print(\"Pelo menos um elemento é zero.\")\n"
      ],
      "metadata": {
        "colab": {
          "base_uri": "https://localhost:8080/"
        },
        "id": "3ko7-VpTbz-L",
        "outputId": "ad932669-21df-43dd-f786-0030976bb6cd"
      },
      "execution_count": 25,
      "outputs": [
        {
          "output_type": "stream",
          "name": "stdout",
          "text": [
            "Pelo menos um elemento é zero.\n"
          ]
        }
      ]
    },
    {
      "cell_type": "code",
      "source": [
        "#Atividade 2\n",
        "import numpy as np\n",
        "\n",
        "# Crie seu array\n",
        "seu_array = np.array([1, 0, 3, 0, 5])\n",
        "\n",
        "# Verifique se algum dos elementos é diferente de zero\n",
        "if np.any(seu_array != 0):\n",
        "    print(\"Pelo menos um elemento é diferente de zero.\")\n",
        "else:\n",
        "    print(\"Todos os elementos são iguais a zero.\")"
      ],
      "metadata": {
        "colab": {
          "base_uri": "https://localhost:8080/"
        },
        "id": "woTEv_SSc8Vq",
        "outputId": "4ad644d4-5123-49e4-efca-382d0e38b9af"
      },
      "execution_count": 2,
      "outputs": [
        {
          "output_type": "stream",
          "name": "stdout",
          "text": [
            "Pelo menos um elemento é diferente de zero.\n"
          ]
        }
      ]
    },
    {
      "cell_type": "code",
      "source": [
        "#Atividade 3\n",
        "import numpy as np\n",
        "\n",
        "# Criar um array de 10 zeros\n",
        "array_zeros = np.zeros(10)\n",
        "\n",
        "# Criar um array de 10 uns\n",
        "array_uns = np.ones(10)\n",
        "\n",
        "# Criar um array de 10 cincos\n",
        "array_cincos = np.full(10, 5)\n",
        "\n",
        "print(\"Array de 10 zeros:\")\n",
        "print(array_zeros)\n",
        "\n",
        "print(\"Array de 10 uns:\")\n",
        "print(array_uns)\n",
        "\n",
        "print(\"Array de 10 cincos:\")\n",
        "print(array_cincos)"
      ],
      "metadata": {
        "colab": {
          "base_uri": "https://localhost:8080/"
        },
        "id": "y_dKrTlzdT7p",
        "outputId": "d0b7433e-3383-4557-e1f2-6bc83462155c"
      },
      "execution_count": 3,
      "outputs": [
        {
          "output_type": "stream",
          "name": "stdout",
          "text": [
            "Array de 10 zeros:\n",
            "[0. 0. 0. 0. 0. 0. 0. 0. 0. 0.]\n",
            "Array de 10 uns:\n",
            "[1. 1. 1. 1. 1. 1. 1. 1. 1. 1.]\n",
            "Array de 10 cincos:\n",
            "[5 5 5 5 5 5 5 5 5 5]\n"
          ]
        }
      ]
    },
    {
      "cell_type": "code",
      "source": [
        "#Atividade 4\n",
        "import numpy as np\n",
        "\n",
        "# Crie um array de inteiros de 30 a 70\n",
        "array_inteiros = np.arange(30, 71)\n",
        "\n",
        "print(array_inteiros)"
      ],
      "metadata": {
        "colab": {
          "base_uri": "https://localhost:8080/"
        },
        "id": "X_QVJL5_d2u5",
        "outputId": "665392fc-84f7-4d77-d4ed-98fb76325abf"
      },
      "execution_count": 6,
      "outputs": [
        {
          "output_type": "stream",
          "name": "stdout",
          "text": [
            "[30 31 32 33 34 35 36 37 38 39 40 41 42 43 44 45 46 47 48 49 50 51 52 53\n",
            " 54 55 56 57 58 59 60 61 62 63 64 65 66 67 68 69 70]\n"
          ]
        }
      ]
    },
    {
      "cell_type": "code",
      "source": [
        "#Atividade 5\n",
        "import numpy as np\n",
        "\n",
        "# Crie um array de inteiros pares de 30 a 70\n",
        "array_pares = np.arange(30, 71, 2)\n",
        "\n",
        "print(array_pares)"
      ],
      "metadata": {
        "colab": {
          "base_uri": "https://localhost:8080/"
        },
        "id": "8VvA3SCOeCG4",
        "outputId": "845d6f08-18de-4e96-b293-9eb49826fcba"
      },
      "execution_count": 7,
      "outputs": [
        {
          "output_type": "stream",
          "name": "stdout",
          "text": [
            "[30 32 34 36 38 40 42 44 46 48 50 52 54 56 58 60 62 64 66 68 70]\n"
          ]
        }
      ]
    },
    {
      "cell_type": "code",
      "source": [
        "#Atividade 6\n",
        "import numpy as np\n",
        "\n",
        "# Crie uma matriz identidade 3x3\n",
        "matriz_identidade = np.identity(3)\n",
        "\n",
        "print(matriz_identidade)"
      ],
      "metadata": {
        "colab": {
          "base_uri": "https://localhost:8080/"
        },
        "id": "u2_JT8tAeTNn",
        "outputId": "04a842b1-441e-4ac2-deb6-9b084c3a69c3"
      },
      "execution_count": 8,
      "outputs": [
        {
          "output_type": "stream",
          "name": "stdout",
          "text": [
            "[[1. 0. 0.]\n",
            " [0. 1. 0.]\n",
            " [0. 0. 1.]]\n"
          ]
        }
      ]
    },
    {
      "cell_type": "code",
      "source": [
        "#Atividade 7\n",
        "import numpy as np\n",
        "\n",
        "# Gere um número aleatório entre 0 e 1\n",
        "numero_aleatorio = np.random.rand()\n",
        "\n",
        "print(numero_aleatorio)"
      ],
      "metadata": {
        "colab": {
          "base_uri": "https://localhost:8080/"
        },
        "id": "li9z3lv5el2e",
        "outputId": "08f67e77-2f36-4300-9d99-a0d383b6aa97"
      },
      "execution_count": 9,
      "outputs": [
        {
          "output_type": "stream",
          "name": "stdout",
          "text": [
            "0.7695256500278259\n"
          ]
        }
      ]
    },
    {
      "cell_type": "code",
      "source": [
        "#Atividade 8\n",
        "import numpy as np\n",
        "\n",
        "# Gere uma matriz de 15 números aleatórios a partir de uma distribuição normal padrão\n",
        "matriz_aleatoria = np.random.randn(15)\n",
        "\n",
        "print(matriz_aleatoria)"
      ],
      "metadata": {
        "colab": {
          "base_uri": "https://localhost:8080/"
        },
        "id": "Oi-uEJPJe8zG",
        "outputId": "39a1688f-1276-4f59-b058-5f2c868d3881"
      },
      "execution_count": 10,
      "outputs": [
        {
          "output_type": "stream",
          "name": "stdout",
          "text": [
            "[ 1.62846297  0.6246966   0.42624153 -1.01435972 -0.22147855  0.61158341\n",
            " -0.30464646  0.93969863  1.25707827 -0.55058968  1.34058994 -0.89404082\n",
            "  1.21779452 -0.32814825  1.47123172]\n"
          ]
        }
      ]
    },
    {
      "cell_type": "code",
      "source": [
        "#Atividade 9\n",
        "import numpy as np\n",
        "\n",
        "# Crie um vetor com valores de 15 a 55\n",
        "vetor_valores = np.arange(15, 56)\n",
        "\n",
        "# Imprima todos os valores, exceto o primeiro e o último\n",
        "print(\"Vetor original:\")\n",
        "print(vetor_valores)\n",
        "\n",
        "print(\"Valores, exceto o primeiro e o último:\")\n",
        "print(vetor_valores[1:-1])"
      ],
      "metadata": {
        "colab": {
          "base_uri": "https://localhost:8080/"
        },
        "id": "zxBL3smVfTxD",
        "outputId": "029e7267-f691-427b-a3b2-690dbd1dcc71"
      },
      "execution_count": 11,
      "outputs": [
        {
          "output_type": "stream",
          "name": "stdout",
          "text": [
            "Vetor original:\n",
            "[15 16 17 18 19 20 21 22 23 24 25 26 27 28 29 30 31 32 33 34 35 36 37 38\n",
            " 39 40 41 42 43 44 45 46 47 48 49 50 51 52 53 54 55]\n",
            "Valores, exceto o primeiro e o último:\n",
            "[16 17 18 19 20 21 22 23 24 25 26 27 28 29 30 31 32 33 34 35 36 37 38 39\n",
            " 40 41 42 43 44 45 46 47 48 49 50 51 52 53 54]\n"
          ]
        }
      ]
    },
    {
      "cell_type": "code",
      "source": [
        "#Atividade 10\n",
        "import numpy as np\n",
        "\n",
        "# Crie um vetor com valores de 0 a 20\n",
        "vetor_valores = np.arange(21)\n",
        "\n",
        "# Altere o sinal dos números no intervalo de 9 a 15\n",
        "vetor_valores[9:16] *= -1\n",
        "\n",
        "print(vetor_valores)"
      ],
      "metadata": {
        "colab": {
          "base_uri": "https://localhost:8080/"
        },
        "id": "uOcjRUMRfxOM",
        "outputId": "b88693ba-9288-4913-ee9b-87d88c8e7ae2"
      },
      "execution_count": 12,
      "outputs": [
        {
          "output_type": "stream",
          "name": "stdout",
          "text": [
            "[  0   1   2   3   4   5   6   7   8  -9 -10 -11 -12 -13 -14 -15  16  17\n",
            "  18  19  20]\n"
          ]
        }
      ]
    },
    {
      "cell_type": "code",
      "source": [
        "#Atividade 11\n",
        "import numpy as np\n",
        "\n",
        "# Crie um vetor de comprimento 5 com inteiros arbitrários no intervalo de 0 a 10\n",
        "vetor_arbitrario = np.random.randint(0, 11, 5)\n",
        "\n",
        "print(vetor_arbitrario)"
      ],
      "metadata": {
        "colab": {
          "base_uri": "https://localhost:8080/"
        },
        "id": "v5WjOER8f9_Y",
        "outputId": "775953f7-7b20-43db-a1e4-fd8480b375b7"
      },
      "execution_count": 13,
      "outputs": [
        {
          "output_type": "stream",
          "name": "stdout",
          "text": [
            "[ 5  5  6 10  9]\n"
          ]
        }
      ]
    },
    {
      "cell_type": "code",
      "source": [
        "#Atividade 12\n",
        "import numpy as np\n",
        "\n",
        "# Vetor 1\n",
        "vetor1 = np.array([1, 2, 3, 4, 5])\n",
        "\n",
        "# Vetor 2\n",
        "vetor2 = np.array([10, 20, 30, 40, 50])\n",
        "\n",
        "# Multiplicação elemento a elemento dos dois vetores\n",
        "resultado = vetor1 * vetor2\n",
        "\n",
        "print(resultado)"
      ],
      "metadata": {
        "colab": {
          "base_uri": "https://localhost:8080/"
        },
        "id": "w85zEOUwgOVf",
        "outputId": "920a480d-ef56-44aa-fa73-22e03a80d635"
      },
      "execution_count": 14,
      "outputs": [
        {
          "output_type": "stream",
          "name": "stdout",
          "text": [
            "[ 10  40  90 160 250]\n"
          ]
        }
      ]
    },
    {
      "cell_type": "code",
      "source": [
        "#Atividade 13\n",
        "import numpy as np\n",
        "\n",
        "# Crie uma matriz 3x4 preenchida com valores de 10 a 21\n",
        "matriz_valores = np.arange(10, 22).reshape(3, 4)\n",
        "\n",
        "print(matriz_valores)"
      ],
      "metadata": {
        "colab": {
          "base_uri": "https://localhost:8080/"
        },
        "id": "g9LBQq8sgahf",
        "outputId": "7fd47d57-fcf7-450a-a4d2-66c2e986a507"
      },
      "execution_count": 15,
      "outputs": [
        {
          "output_type": "stream",
          "name": "stdout",
          "text": [
            "[[10 11 12 13]\n",
            " [14 15 16 17]\n",
            " [18 19 20 21]]\n"
          ]
        }
      ]
    },
    {
      "cell_type": "code",
      "source": [
        "#Atividade 14\n",
        "import numpy as np\n",
        "\n",
        "# Criar uma matriz de exemplo\n",
        "matriz = np.array([[1, 2, 3], [4, 5, 6], [7, 8, 9]])\n",
        "\n",
        "# Encontrar o número de linhas e colunas usando o atributo shape\n",
        "num_linhas, num_colunas = matriz.shape\n",
        "\n",
        "# Alternativamente, você pode usar o atributo ndim\n",
        "# num_linhas = matriz.shape[0]\n",
        "# num_colunas = matriz.shape[1]\n",
        "\n",
        "print(f\"Número de linhas: {num_linhas}\")\n",
        "print(f\"Número de colunas: {num_colunas}\")"
      ],
      "metadata": {
        "colab": {
          "base_uri": "https://localhost:8080/"
        },
        "id": "1qMtV415gl7N",
        "outputId": "03257aca-a074-4bb4-908a-83282d4d2c3b"
      },
      "execution_count": 16,
      "outputs": [
        {
          "output_type": "stream",
          "name": "stdout",
          "text": [
            "Número de linhas: 3\n",
            "Número de colunas: 3\n"
          ]
        }
      ]
    },
    {
      "cell_type": "code",
      "source": [
        "#Atividade 15\n",
        "import numpy as np\n",
        "\n",
        "# Crie uma matriz 10x10 preenchida com zeros\n",
        "matriz = np.zeros((10, 10))\n",
        "\n",
        "# Defina os elementos nas bordas como 1\n",
        "matriz[0, :] = 1  # Define a primeira linha para 1\n",
        "matriz[-1, :] = 1  # Define a última linha para 1\n",
        "matriz[:, 0] = 1  # Define a primeira coluna para 1\n",
        "matriz[:, -1] = 1  # Define a última coluna para 1\n",
        "\n",
        "print(matriz)"
      ],
      "metadata": {
        "colab": {
          "base_uri": "https://localhost:8080/"
        },
        "id": "irdeLQalg4Xm",
        "outputId": "2b897b26-a4eb-47ba-ecb9-478a96586da2"
      },
      "execution_count": 17,
      "outputs": [
        {
          "output_type": "stream",
          "name": "stdout",
          "text": [
            "[[1. 1. 1. 1. 1. 1. 1. 1. 1. 1.]\n",
            " [1. 0. 0. 0. 0. 0. 0. 0. 0. 1.]\n",
            " [1. 0. 0. 0. 0. 0. 0. 0. 0. 1.]\n",
            " [1. 0. 0. 0. 0. 0. 0. 0. 0. 1.]\n",
            " [1. 0. 0. 0. 0. 0. 0. 0. 0. 1.]\n",
            " [1. 0. 0. 0. 0. 0. 0. 0. 0. 1.]\n",
            " [1. 0. 0. 0. 0. 0. 0. 0. 0. 1.]\n",
            " [1. 0. 0. 0. 0. 0. 0. 0. 0. 1.]\n",
            " [1. 0. 0. 0. 0. 0. 0. 0. 0. 1.]\n",
            " [1. 1. 1. 1. 1. 1. 1. 1. 1. 1.]]\n"
          ]
        }
      ]
    },
    {
      "cell_type": "code",
      "source": [
        "#Atividade 16\n",
        "import numpy as np\n",
        "\n",
        "# Defina os dois vetores\n",
        "vetor1 = np.array([1, 2, 3])\n",
        "vetor2 = np.array([4, 5, 6])\n",
        "\n",
        "# Método 1: Use a função np.dot\n",
        "produto_interno1 = np.dot(vetor1, vetor2)\n",
        "\n",
        "# Método 2: Use o operador @\n",
        "produto_interno2 = vetor1 @ vetor2\n",
        "\n",
        "print(f\"Produto Interno (np.dot): {produto_interno1}\")\n",
        "print(f\"Produto Interno (@): {produto_interno2}\")"
      ],
      "metadata": {
        "colab": {
          "base_uri": "https://localhost:8080/"
        },
        "id": "ZKpvKSQFhKkW",
        "outputId": "ea4136d5-0bc6-43db-b177-516d2a46531b"
      },
      "execution_count": 18,
      "outputs": [
        {
          "output_type": "stream",
          "name": "stdout",
          "text": [
            "Produto Interno (np.dot): 32\n",
            "Produto Interno (@): 32\n"
          ]
        }
      ]
    },
    {
      "cell_type": "code",
      "source": [
        "#Aividade 17\n",
        "import numpy as np\n",
        "\n",
        "# Crie um array de exemplo\n",
        "array = np.array([[1, 2, 3],\n",
        "                  [4, 5, 6],\n",
        "                  [7, 8, 9]])\n",
        "\n",
        "# Calcule a soma de todos os elementos\n",
        "soma_total = np.sum(array)\n",
        "\n",
        "# Calcule a soma de cada coluna (axis=0)\n",
        "soma_colunas = np.sum(array, axis=0)\n",
        "\n",
        "# Calcule a soma de cada linha (axis=1)\n",
        "soma_linhas = np.sum(array, axis=1)\n",
        "\n",
        "print(\"Array:\")\n",
        "print(array)\n",
        "\n",
        "print(f\"Soma de todos os elementos: {soma_total}\")\n",
        "print(f\"Soma de cada coluna: {soma_colunas}\")\n",
        "print(f\"Soma de cada linha: {soma_linhas}\")\n"
      ],
      "metadata": {
        "colab": {
          "base_uri": "https://localhost:8080/"
        },
        "id": "hO1GrFxIhaT_",
        "outputId": "d7aeb71d-d6b9-4b08-82a4-452d44e58756"
      },
      "execution_count": 19,
      "outputs": [
        {
          "output_type": "stream",
          "name": "stdout",
          "text": [
            "Array:\n",
            "[[1 2 3]\n",
            " [4 5 6]\n",
            " [7 8 9]]\n",
            "Soma de todos os elementos: 45\n",
            "Soma de cada coluna: [12 15 18]\n",
            "Soma de cada linha: [ 6 15 24]\n"
          ]
        }
      ]
    },
    {
      "cell_type": "code",
      "source": [
        "#Atividade 18\n",
        "import numpy as np\n",
        "\n",
        "# Crie uma matriz de exemplo\n",
        "matriz = np.array([[1, 2, 3],\n",
        "                  [4, 5, 6],\n",
        "                  [7, 8, 9]])\n",
        "\n",
        "# Crie um vetor que você deseja adicionar a cada linha\n",
        "vetor_adicao = np.array([10, 20, 30])\n",
        "\n",
        "# Use a transmissão (broadcasting) para adicionar o vetor a cada linha\n",
        "matriz_resultante = matriz + vetor_adicao\n",
        "\n",
        "print(\"Matriz original:\")\n",
        "print(matriz)\n",
        "\n",
        "print(\"Vetor a ser adicionado a cada linha:\")\n",
        "print(vetor_adicao)\n",
        "\n",
        "print(\"Matriz resultante após adição:\")\n",
        "print(matriz_resultante)"
      ],
      "metadata": {
        "colab": {
          "base_uri": "https://localhost:8080/"
        },
        "id": "gIvI7FEZhoOC",
        "outputId": "b5cb4003-b986-4e06-8406-266249626e6c"
      },
      "execution_count": 20,
      "outputs": [
        {
          "output_type": "stream",
          "name": "stdout",
          "text": [
            "Matriz original:\n",
            "[[1 2 3]\n",
            " [4 5 6]\n",
            " [7 8 9]]\n",
            "Vetor a ser adicionado a cada linha:\n",
            "[10 20 30]\n",
            "Matriz resultante após adição:\n",
            "[[11 22 33]\n",
            " [14 25 36]\n",
            " [17 28 39]]\n"
          ]
        }
      ]
    },
    {
      "cell_type": "code",
      "source": [
        "#Atividade 19\n",
        "import numpy as np\n",
        "\n",
        "# Crie duas matrizes de exemplo do mesmo tamanho\n",
        "matriz1 = np.array([[1, 2, 3],\n",
        "                   [4, 5, 6],\n",
        "                   [7, 8, 9]])\n",
        "\n",
        "matriz2 = np.array([[10, 20, 30],\n",
        "                   [40, 50, 60],\n",
        "                   [70, 80, 90]])\n",
        "\n",
        "# Multiplique as matrizes elemento por elemento\n",
        "resultado = np.multiply(matriz1, matriz2)\n",
        "\n",
        "print(\"Matriz 1:\")\n",
        "print(matriz1)\n",
        "\n",
        "print(\"Matriz 2:\")\n",
        "print(matriz2)\n",
        "\n",
        "print(\"Resultado da multiplicação elemento por elemento:\")\n",
        "print(resultado)"
      ],
      "metadata": {
        "colab": {
          "base_uri": "https://localhost:8080/"
        },
        "id": "KUJRRz-Fh5IB",
        "outputId": "89650ca4-b6eb-4af4-ab11-aa39c77392c7"
      },
      "execution_count": 21,
      "outputs": [
        {
          "output_type": "stream",
          "name": "stdout",
          "text": [
            "Matriz 1:\n",
            "[[1 2 3]\n",
            " [4 5 6]\n",
            " [7 8 9]]\n",
            "Matriz 2:\n",
            "[[10 20 30]\n",
            " [40 50 60]\n",
            " [70 80 90]]\n",
            "Resultado da multiplicação elemento por elemento:\n",
            "[[ 10  40  90]\n",
            " [160 250 360]\n",
            " [490 640 810]]\n"
          ]
        }
      ]
    },
    {
      "cell_type": "code",
      "source": [
        "#Atividade 20\n",
        "import numpy as np\n",
        "\n",
        "# Criar um array de exemplo\n",
        "array = np.array([1, 5, 2, 7, 3, 8, 4, 9, 6])\n",
        "\n",
        "# Especificar o número de referência\n",
        "numero_referencia = 5\n",
        "\n",
        "# Substituir todos os valores iguais a 'numero_referencia' por 0\n",
        "array_substituido = np.where(array == numero_referencia, 0, array)\n",
        "\n",
        "# Substituir todos os valores menores que 'numero_referencia' por -1\n",
        "array_substituido = np.where(array_substituido < numero_referencia, -1, array_substituido)\n",
        "\n",
        "# Substituir todos os valores maiores que 'numero_referencia' por 1\n",
        "array_substituido = np.where(array_substituido > numero_referencia, 1, array_substituido)\n",
        "\n",
        "print(\"Array original:\")\n",
        "print(array)\n",
        "\n",
        "print(\"Array após a substituição:\")\n",
        "print(array_substituido)"
      ],
      "metadata": {
        "colab": {
          "base_uri": "https://localhost:8080/"
        },
        "id": "1H1fIKLuiIFd",
        "outputId": "8a354337-0bde-4b23-8ecb-2640cd1833e9"
      },
      "execution_count": 22,
      "outputs": [
        {
          "output_type": "stream",
          "name": "stdout",
          "text": [
            "Array original:\n",
            "[1 5 2 7 3 8 4 9 6]\n",
            "Array após a substituição:\n",
            "[-1 -1 -1  1 -1  1 -1  1  1]\n"
          ]
        }
      ]
    },
    {
      "cell_type": "code",
      "source": [
        "#Atividade 21\n",
        "import numpy as np\n",
        "\n",
        "# Criar um array de exemplo\n",
        "array = np.array([[3, 2, 1],\n",
        "                  [6, 5, 4],\n",
        "                  [9, 8, 7]])\n",
        "\n",
        "# Ordenar ao longo do primeiro eixo (linhas)\n",
        "sorted_axis_0 = np.sort(array, axis=0)\n",
        "\n",
        "# Ordenar ao longo do último eixo (colunas)\n",
        "sorted_axis_1 = np.sort(array, axis=-1)\n",
        "\n",
        "# Ordenar o array achatado\n",
        "sorted_flatten = np.sort(array.ravel())\n",
        "\n",
        "print(\"Array original:\")\n",
        "print(array)\n",
        "\n",
        "print(\"Array ordenado ao longo do primeiro eixo (linhas):\")\n",
        "print(sorted_axis_0)\n",
        "\n",
        "print(\"Array ordenado ao longo do último eixo (colunas):\")\n",
        "print(sorted_axis_1)\n",
        "\n",
        "print(\"Array achatado ordenado:\")\n",
        "print(sorted_flatten)\n"
      ],
      "metadata": {
        "colab": {
          "base_uri": "https://localhost:8080/"
        },
        "id": "bFF44xnQiYKa",
        "outputId": "ca0d604c-19d3-4104-d23b-48caf846adc4"
      },
      "execution_count": 23,
      "outputs": [
        {
          "output_type": "stream",
          "name": "stdout",
          "text": [
            "Array original:\n",
            "[[3 2 1]\n",
            " [6 5 4]\n",
            " [9 8 7]]\n",
            "Array ordenado ao longo do primeiro eixo (linhas):\n",
            "[[3 2 1]\n",
            " [6 5 4]\n",
            " [9 8 7]]\n",
            "Array ordenado ao longo do último eixo (colunas):\n",
            "[[1 2 3]\n",
            " [4 5 6]\n",
            " [7 8 9]]\n",
            "Array achatado ordenado:\n",
            "[1 2 3 4 5 6 7 8 9]\n"
          ]
        }
      ]
    }
  ]
}